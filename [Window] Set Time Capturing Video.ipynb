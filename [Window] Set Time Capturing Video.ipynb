{
 "cells": [
  {
   "cell_type": "code",
   "execution_count": null,
   "id": "94fffd6d",
   "metadata": {},
   "outputs": [],
   "source": [
    "import os\n",
    "import cv2\n",
    "import time\n",
    "import schedule\n",
    "import numpy as np\n",
    "\n",
    "from datetime import datetime"
   ]
  },
  {
   "cell_type": "code",
   "execution_count": null,
   "id": "503de86f",
   "metadata": {},
   "outputs": [],
   "source": [
    "def capture():\n",
    "    \n",
    "    cap = cv2.VideoCapture(url, cv2.CAP_FFMPEG)\n",
    "    fourcc = cv2.VideoWriter_fourcc(*'XVID')\n",
    "    out = cv2.VideoWriter('filename.mp4', fourcc, fps, (width,height))\n",
    "    start_time = time.time()\n",
    "    \n",
    "    if not cap.isOpened():\n",
    "        print('Cannot open RTSP stream')\n",
    "        exit(-1)\n",
    "    \n",
    "    while (int(time.time() - start_time) < capture_duration):\n",
    "        ret, frame = cap.read()\n",
    "        if ret==True:\n",
    "            out.write(frame) \n",
    "            \n",
    "            cv2.imshow('RTSP Camera',frame)\n",
    "            if cv2.waitKey(1) & 0xFF == ord('q'):\n",
    "                break\n",
    "        else:\n",
    "            break\n",
    "    \n",
    "    # Release everything if job is finished\n",
    "    cap.release()\n",
    "    out.release()\n",
    "    cv2.destroyAllWindows()\n",
    "\n",
    "    f_path = \"\"\n",
    "    t = os.path.getctime(f_path)\n",
    "    t_str = time.ctime(t)\n",
    "    t_obj = time.strptime(t_str)\n",
    "    form_t = time.strftime(\"%Y-%m-%d %H:%M:%S\", t_obj)\n",
    "    form_t = form_t.replace(\":\", \"꞉\")\n",
    "    os.rename(\n",
    "        f_path, os.path.split(f_path)[0] + '/' + form_t + os.path.splitext(f_path)[1])\n",
    "    \n",
    "    print('Complete')"
   ]
  },
  {
   "cell_type": "code",
   "execution_count": null,
   "id": "6aefc230",
   "metadata": {},
   "outputs": [],
   "source": [
    "capture_duration = 10 # The duration in seconds of the video captured\n",
    "\n",
    "url = \"\"\n",
    "os.environ['OPENCV_FFMPEG_CAPTURE_OPTIONS'] = 'rtsp_transport;0'\n",
    "\n",
    "fps = 10.0\n",
    "width = 640\n",
    "height = 480"
   ]
  },
  {
   "cell_type": "code",
   "execution_count": null,
   "id": "c272d024",
   "metadata": {},
   "outputs": [],
   "source": [
    "#schedule.every(30).seconds.do(capture)\n",
    "#schedule.every().hour.do(capture)\n",
    "#schedule.every().day.at(\"10:30\").do(capture)\n",
    "#schedule.every(5).to(10).minutes.do(capture)\n",
    "#schedule.every().monday.do(capture)\n",
    "#schedule.every().wednesday.at(\"13:15\").do(capture)\n",
    "#schedule.every().minute.at(\":17\").do(capture)\n",
    "\n",
    "schedule.every(1).minutes.do(capture)\n",
    "\n",
    "while True:\n",
    "    schedule.run_pending()\n",
    "    time.sleep(1)"
   ]
  },
  {
   "cell_type": "code",
   "execution_count": null,
   "id": "b17726b7",
   "metadata": {},
   "outputs": [],
   "source": []
  }
 ],
 "metadata": {
  "kernelspec": {
   "display_name": "yolog",
   "language": "python",
   "name": "yolog"
  },
  "language_info": {
   "codemirror_mode": {
    "name": "ipython",
    "version": 3
   },
   "file_extension": ".py",
   "mimetype": "text/x-python",
   "name": "python",
   "nbconvert_exporter": "python",
   "pygments_lexer": "ipython3",
   "version": "3.8.13"
  }
 },
 "nbformat": 4,
 "nbformat_minor": 5
}
